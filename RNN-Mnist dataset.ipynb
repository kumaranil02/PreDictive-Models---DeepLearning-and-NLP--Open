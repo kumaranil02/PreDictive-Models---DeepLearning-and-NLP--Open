{
 "cells": [
  {
   "cell_type": "code",
   "execution_count": 2,
   "metadata": {},
   "outputs": [],
   "source": [
    "import tensorflow as tf\n",
    "from tensorflow.keras.models import Sequential\n",
    "from tensorflow.keras.layers import Dense , Dropout ,LSTM\n",
    "\n",
    "\n",
    "mnist = tf.keras.datasets.mnist\n",
    "(x_train,y_train),(x_test,y_test) = mnist.load_data()"
   ]
  },
  {
   "cell_type": "code",
   "execution_count": 3,
   "metadata": {},
   "outputs": [
    {
     "name": "stdout",
     "output_type": "stream",
     "text": [
      "(60000, 28, 28)\n"
     ]
    }
   ],
   "source": [
    "print(x_train.shape)"
   ]
  },
  {
   "cell_type": "code",
   "execution_count": 13,
   "metadata": {},
   "outputs": [
    {
     "data": {
      "image/png": "[encoded data removed]",
      "text/plain": [
       "<Figure size 288x288 with 1 Axes>"
      ]
     },
     "metadata": {
      "needs_background": "light"
     },
     "output_type": "display_data"
    }
   ],
   "source": [
    "import matplotlib.pyplot as plt\n",
    "plt.matshow(x_train[59000])\n",
    "plt.show()"
   ]
  },
  {
   "cell_type": "code",
   "execution_count": 4,
   "metadata": {},
   "outputs": [
    {
     "name": "stdout",
     "output_type": "stream",
     "text": [
      "Train on 60000 samples, validate on 10000 samples\n",
      "Epoch 1/3\n",
      "60000/60000 [==============================] - 163s 3ms/sample - loss: 0.6855 - accuracy: 0.7930 - val_loss: 0.1568 - val_accuracy: 0.9544\n",
      "Epoch 2/3\n",
      "60000/60000 [==============================] - 151s 3ms/sample - loss: 0.1833 - accuracy: 0.9505 - val_loss: 0.0983 - val_accuracy: 0.9711\n",
      "Epoch 3/3\n",
      "60000/60000 [==============================] - 154s 3ms/sample - loss: 0.1311 - accuracy: 0.9652 - val_loss: 0.0723 - val_accuracy: 0.9781\n"
     ]
    },
    {
     "data": {
      "text/plain": [
       "<tensorflow.python.keras.callbacks.History at 0x14faa925c50>"
      ]
     },
     "execution_count": 4,
     "metadata": {},
     "output_type": "execute_result"
    }
   ],
   "source": [
    "x_train = x_train/255.0\n",
    "x_test = x_test/255.0\n",
    "\n",
    "\n",
    "model = Sequential()\n",
    "model.add(LSTM(128,input_shape=x_train.shape[1:],activation = 'relu',return_sequences = True))\n",
    "model.add(Dropout(0.2))\n",
    "\n",
    "model.add(LSTM(128,activation='relu'))\n",
    "model.add(Dropout(0.2))\n",
    "\n",
    "model.add(Dense(32,activation='relu'))\n",
    "model.add(Dropout(0.2))\n",
    "\n",
    "model.add(Dense(10,activation='softmax'))\n",
    "\n",
    "opt = tf.keras.optimizers.Adam(lr= 1e-3,decay=1e-5)\n",
    "\n",
    "model.compile(loss='sparse_categorical_crossentropy',optimizer = opt,metrics=['accuracy'])\n",
    "\n",
    "model.fit(x_train,y_train,batch_size=32,epochs = 3,validation_data = (x_test,y_test))\n"
   ]
  },
  {
   "cell_type": "code",
   "execution_count": 5,
   "metadata": {},
   "outputs": [],
   "source": [
    "model.save('RNN-MNIST-32-3.h5')"
   ]
  },
  {
   "cell_type": "code",
   "execution_count": 10,
   "metadata": {},
   "outputs": [
    {
     "name": "stdout",
     "output_type": "stream",
     "text": [
      "Train on 60000 samples, validate on 10000 samples\n",
      "Epoch 1/3\n",
      "60000/60000 [==============================] - 159s 3ms/sample - loss: 1.3020 - accuracy: 0.5195 - val_loss: 0.6390 - val_accuracy: 0.7785\n",
      "Epoch 2/3\n",
      "60000/60000 [==============================] - 145s 2ms/sample - loss: 0.5016 - accuracy: 0.8402 - val_loss: 0.2560 - val_accuracy: 0.9165\n",
      "Epoch 3/3\n",
      "60000/60000 [==============================] - 142s 2ms/sample - loss: 0.2797 - accuracy: 0.9161 - val_loss: 0.1767 - val_accuracy: 0.9444\n"
     ]
    },
    {
     "data": {
      "text/plain": [
       "<tensorflow.python.keras.callbacks.History at 0x14fba646860>"
      ]
     },
     "execution_count": 10,
     "metadata": {},
     "output_type": "execute_result"
    }
   ],
   "source": [
    "#CuDNNLSTM - Without specyfying activation function CuDNNLSTM is automatically called.\n",
    "\n",
    "model = Sequential()\n",
    "model.add(LSTM(128,input_shape=x_train.shape[1:],return_sequences = True))\n",
    "model.add(Dropout(0.2))\n",
    "\n",
    "model.add(LSTM(128))\n",
    "model.add(Dropout(0.2))\n",
    "\n",
    "model.add(Dense(32,activation='relu'))\n",
    "model.add(Dropout(0.2))\n",
    "\n",
    "model.add(Dense(10,activation='softmax'))\n",
    "\n",
    "opt = tf.keras.optimizers.Adam(lr= 1e-3,decay=1e-5)\n",
    "\n",
    "model.compile(loss='sparse_categorical_crossentropy',optimizer = opt,metrics=['accuracy'])\n",
    "\n",
    "model.fit(x_train,y_train,epochs = 3,validation_data = (x_test,y_test))\n"
   ]
  },
  {
   "cell_type": "code",
   "execution_count": null,
   "metadata": {},
   "outputs": [],
   "source": [
    "model.save('RNN-MNIST-CuDNNLSTM-32-3.h5')"
   ]
  }
 ],
 "metadata": {
  "kernelspec": {
   "display_name": "Python 3",
   "language": "python",
   "name": "python3"
  },
  "language_info": {
   "codemirror_mode": {
    "name": "ipython",
    "version": 3
   },
   "file_extension": ".py",
   "mimetype": "text/x-python",
   "name": "python",
   "nbconvert_exporter": "python",
   "pygments_lexer": "ipython3",
   "version": "3.7.3"
  }
 },
 "nbformat": 4,
 "nbformat_minor": 2
}
